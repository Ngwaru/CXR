{
 "cells": [
  {
   "cell_type": "code",
   "execution_count": null,
   "id": "e4894ff0",
   "metadata": {},
   "outputs": [],
   "source": []
  },
  {
   "cell_type": "code",
   "execution_count": 1,
   "id": "889b96a1",
   "metadata": {},
   "outputs": [],
   "source": [
    "import torch \n",
    "import torch.nn as nn \n",
    "import torch.nn.functional as F\n",
    "from torch.utils.data import Dataset, DataLoader, TensorDataset\n",
    "import torchvision\n",
    "from torchvision.transforms import transforms, Resize, ToTensor\n",
    "from torchvision.transforms.functional import to_pil_image\n",
    "import os \n",
    "import numpy as np\n",
    "import pandas as pd\n",
    "import matplotlib.pyplot as plt\n"
   ]
  },
  {
   "cell_type": "code",
   "execution_count": 2,
   "id": "de76f242",
   "metadata": {},
   "outputs": [],
   "source": [
    "from make_dataset import Custom_Image_Dataset"
   ]
  },
  {
   "cell_type": "code",
   "execution_count": 3,
   "id": "f8ebdcca",
   "metadata": {},
   "outputs": [
    {
     "name": "stdout",
     "output_type": "stream",
     "text": [
      "0\n",
      "1\n",
      "              file  lables label_name\n",
      "0     Normal-1.png       0     Normal\n",
      "1    Normal-10.png       0     Normal\n",
      "2   Normal-100.png       0     Normal\n",
      "3  Normal-1000.png       0     Normal\n",
      "4  Normal-1001.png       0     Normal\n"
     ]
    }
   ],
   "source": [
    "data = Custom_Image_Dataset(\"C:\\\\Users\\\\munod\\\\OneDrive\\\\Documents\\\\Datasets\\\\Tuberculosis_(TB)_Chest_X-ray_Database\\\\TB_Chest_Radiography_Database\")"
   ]
  },
  {
   "cell_type": "code",
   "execution_count": 4,
   "id": "19f7becd",
   "metadata": {},
   "outputs": [],
   "source": [
    "data_laoded = DataLoader(data)"
   ]
  },
  {
   "cell_type": "code",
   "execution_count": null,
   "id": "172f5470",
   "metadata": {},
   "outputs": [
    {
     "name": "stdout",
     "output_type": "stream",
     "text": [
      "<make_dataset.Custom_Image_Dataset object at 0x000002753BD2C050>\n"
     ]
    }
   ],
   "source": [
    "\n",
    "def show_image(images, num_samples=30, cols=4):\n",
    "    plt.figure(figsize=(15,15))\n",
    "    idx = int(len(data)/num_samples)\n",
    "    print(images)\n",
    "    for i, img in enumerate(images):\n",
    "        if i % idx == 6:\n",
    "            plt.subplot(int(num_samples/cols) + 1, cols, int(i/idx) +1)\n",
    "            plt.title(img[1])\n",
    "            plt.axis(\"off\")\n",
    "            plt.imshow(to_pil_image(img[0]))\n",
    "\n",
    "show_image(data)\n"
   ]
  },
  {
   "cell_type": "code",
   "execution_count": null,
   "id": "dba7cdf3",
   "metadata": {},
   "outputs": [],
   "source": []
  }
 ],
 "metadata": {
  "kernelspec": {
   "display_name": "surg_venv",
   "language": "python",
   "name": "python3"
  },
  "language_info": {
   "codemirror_mode": {
    "name": "ipython",
    "version": 3
   },
   "file_extension": ".py",
   "mimetype": "text/x-python",
   "name": "python",
   "nbconvert_exporter": "python",
   "pygments_lexer": "ipython3",
   "version": "3.13.3"
  }
 },
 "nbformat": 4,
 "nbformat_minor": 5
}
